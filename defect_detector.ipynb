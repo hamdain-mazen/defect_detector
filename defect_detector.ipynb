{
 "cells": [
  {
   "cell_type": "code",
   "execution_count": 62,
   "id": "48987c3f",
   "metadata": {},
   "outputs": [],
   "source": [
    "import os\n",
    "import matplotlib.pyplot as plt"
   ]
  },
  {
   "cell_type": "code",
   "execution_count": 1,
   "id": "a28219f9",
   "metadata": {},
   "outputs": [],
   "source": [
    "import pandas as pd\n",
    "\n",
    "df_csv = pd.read_csv('./DB1_defect_points.csv')"
   ]
  },
  {
   "cell_type": "code",
   "execution_count": 2,
   "id": "72e9648f",
   "metadata": {},
   "outputs": [
    {
     "data": {
      "text/html": [
       "<div>\n",
       "<style scoped>\n",
       "    .dataframe tbody tr th:only-of-type {\n",
       "        vertical-align: middle;\n",
       "    }\n",
       "\n",
       "    .dataframe tbody tr th {\n",
       "        vertical-align: top;\n",
       "    }\n",
       "\n",
       "    .dataframe thead th {\n",
       "        text-align: right;\n",
       "    }\n",
       "</style>\n",
       "<table border=\"1\" class=\"dataframe\">\n",
       "  <thead>\n",
       "    <tr style=\"text-align: right;\">\n",
       "      <th></th>\n",
       "      <th>file_name</th>\n",
       "      <th>defect_numb</th>\n",
       "      <th>x_start</th>\n",
       "      <th>y_start</th>\n",
       "      <th>x_end</th>\n",
       "      <th>y_end</th>\n",
       "    </tr>\n",
       "  </thead>\n",
       "  <tbody>\n",
       "    <tr>\n",
       "      <th>0</th>\n",
       "      <td>DB1_111_027.png</td>\n",
       "      <td>1</td>\n",
       "      <td>383</td>\n",
       "      <td>718</td>\n",
       "      <td>472</td>\n",
       "      <td>620</td>\n",
       "    </tr>\n",
       "    <tr>\n",
       "      <th>1</th>\n",
       "      <td>DB1_111_027.png</td>\n",
       "      <td>2</td>\n",
       "      <td>345</td>\n",
       "      <td>656</td>\n",
       "      <td>398</td>\n",
       "      <td>568</td>\n",
       "    </tr>\n",
       "    <tr>\n",
       "      <th>2</th>\n",
       "      <td>DB1_222_002.png</td>\n",
       "      <td>1</td>\n",
       "      <td>749</td>\n",
       "      <td>510</td>\n",
       "      <td>564</td>\n",
       "      <td>490</td>\n",
       "    </tr>\n",
       "    <tr>\n",
       "      <th>3</th>\n",
       "      <td>DB1_222_002.png</td>\n",
       "      <td>2</td>\n",
       "      <td>750</td>\n",
       "      <td>528</td>\n",
       "      <td>664</td>\n",
       "      <td>523</td>\n",
       "    </tr>\n",
       "    <tr>\n",
       "      <th>4</th>\n",
       "      <td>DB1_333_018.png</td>\n",
       "      <td>1</td>\n",
       "      <td>411</td>\n",
       "      <td>349</td>\n",
       "      <td>437</td>\n",
       "      <td>426</td>\n",
       "    </tr>\n",
       "  </tbody>\n",
       "</table>\n",
       "</div>"
      ],
      "text/plain": [
       "         file_name  defect_numb  x_start  y_start  x_end  y_end\n",
       "0  DB1_111_027.png            1      383      718    472    620\n",
       "1  DB1_111_027.png            2      345      656    398    568\n",
       "2  DB1_222_002.png            1      749      510    564    490\n",
       "3  DB1_222_002.png            2      750      528    664    523\n",
       "4  DB1_333_018.png            1      411      349    437    426"
      ]
     },
     "execution_count": 2,
     "metadata": {},
     "output_type": "execute_result"
    }
   ],
   "source": [
    "df_csv.head()"
   ]
  },
  {
   "cell_type": "code",
   "execution_count": 54,
   "id": "425970e3",
   "metadata": {},
   "outputs": [
    {
     "ename": "PermissionError",
     "evalue": "[Errno 13] Permission denied: 'DB1'",
     "output_type": "error",
     "traceback": [
      "\u001b[1;31m---------------------------------------------------------------------------\u001b[0m",
      "\u001b[1;31mPermissionError\u001b[0m                           Traceback (most recent call last)",
      "\u001b[1;32m~\\AppData\\Local\\Temp\\ipykernel_25036\\2577904472.py\u001b[0m in \u001b[0;36m<module>\u001b[1;34m\u001b[0m\n\u001b[0;32m      3\u001b[0m \u001b[1;33m\u001b[0m\u001b[0m\n\u001b[0;32m      4\u001b[0m \u001b[1;31m# open method used to open different extension image file\u001b[0m\u001b[1;33m\u001b[0m\u001b[1;33m\u001b[0m\u001b[0m\n\u001b[1;32m----> 5\u001b[1;33m \u001b[0mim\u001b[0m \u001b[1;33m=\u001b[0m \u001b[0mImage\u001b[0m\u001b[1;33m.\u001b[0m\u001b[0mopen\u001b[0m\u001b[1;33m(\u001b[0m\u001b[1;34mr\"DB1\"\u001b[0m\u001b[1;33m)\u001b[0m\u001b[1;33m\u001b[0m\u001b[1;33m\u001b[0m\u001b[0m\n\u001b[0m\u001b[0;32m      6\u001b[0m \u001b[1;33m\u001b[0m\u001b[0m\n\u001b[0;32m      7\u001b[0m \u001b[1;31m# This method will show image in any image viewer\u001b[0m\u001b[1;33m\u001b[0m\u001b[1;33m\u001b[0m\u001b[0m\n",
      "\u001b[1;32m~\\anaconda3\\lib\\site-packages\\PIL\\Image.py\u001b[0m in \u001b[0;36mopen\u001b[1;34m(fp, mode, formats)\u001b[0m\n\u001b[0;32m   3090\u001b[0m \u001b[1;33m\u001b[0m\u001b[0m\n\u001b[0;32m   3091\u001b[0m     \u001b[1;32mif\u001b[0m \u001b[0mfilename\u001b[0m\u001b[1;33m:\u001b[0m\u001b[1;33m\u001b[0m\u001b[1;33m\u001b[0m\u001b[0m\n\u001b[1;32m-> 3092\u001b[1;33m         \u001b[0mfp\u001b[0m \u001b[1;33m=\u001b[0m \u001b[0mbuiltins\u001b[0m\u001b[1;33m.\u001b[0m\u001b[0mopen\u001b[0m\u001b[1;33m(\u001b[0m\u001b[0mfilename\u001b[0m\u001b[1;33m,\u001b[0m \u001b[1;34m\"rb\"\u001b[0m\u001b[1;33m)\u001b[0m\u001b[1;33m\u001b[0m\u001b[1;33m\u001b[0m\u001b[0m\n\u001b[0m\u001b[0;32m   3093\u001b[0m         \u001b[0mexclusive_fp\u001b[0m \u001b[1;33m=\u001b[0m \u001b[1;32mTrue\u001b[0m\u001b[1;33m\u001b[0m\u001b[1;33m\u001b[0m\u001b[0m\n\u001b[0;32m   3094\u001b[0m \u001b[1;33m\u001b[0m\u001b[0m\n",
      "\u001b[1;31mPermissionError\u001b[0m: [Errno 13] Permission denied: 'DB1'"
     ]
    }
   ],
   "source": [
    "# Imports PIL module \n",
    "from PIL import Image\n",
    "  \n",
    "# open method used to open different extension image file\n",
    "im = Image.open(r\"DB1\") \n",
    "  \n",
    "# This method will show image in any image viewer \n",
    "im.show() "
   ]
  },
  {
   "cell_type": "code",
   "execution_count": 14,
   "id": "f29e2508",
   "metadata": {},
   "outputs": [
    {
     "data": {
      "text/plain": [
       "'DB1_111_027.png'"
      ]
     },
     "execution_count": 14,
     "metadata": {},
     "output_type": "execute_result"
    }
   ],
   "source": [
    "df_csv[\"file_name\"][0]"
   ]
  },
  {
   "cell_type": "code",
   "execution_count": 18,
   "id": "c1c8c341",
   "metadata": {},
   "outputs": [],
   "source": [
    "def get_images():\n",
    "    \n",
    "    for file_name in df_csv[\"file_name\"]:\n",
    "        print(file_name)"
   ]
  },
  {
   "cell_type": "code",
   "execution_count": 29,
   "id": "b8746089",
   "metadata": {},
   "outputs": [],
   "source": [
    "DIR_PATH = 'DB1'"
   ]
  },
  {
   "cell_type": "code",
   "execution_count": 50,
   "id": "669bb29e",
   "metadata": {},
   "outputs": [],
   "source": [
    "all_image_paths = list(map(lambda x: DIR_PATH+'/'+x, os.listdir(DIR_PATH)))\n",
    "all_image_ids   = list(path.split(DIR_PATH+'/')[1][:-4] for path in all_image_paths)"
   ]
  },
  {
   "cell_type": "code",
   "execution_count": 51,
   "id": "a73c2faf",
   "metadata": {},
   "outputs": [
    {
     "name": "stdout",
     "output_type": "stream",
     "text": [
      "len(all_image_paths): 436\n",
      "len(all_image_ids)  : 436\n"
     ]
    }
   ],
   "source": [
    "print('len(all_image_paths):', len(all_image_paths))\n",
    "print('len(all_image_ids)  :', len(all_image_ids))"
   ]
  },
  {
   "cell_type": "code",
   "execution_count": 52,
   "id": "23f9548a",
   "metadata": {},
   "outputs": [
    {
     "name": "stdout",
     "output_type": "stream",
     "text": [
      "DB1/DB1_100_018.png\n",
      "DB1/DB1_101_027.png\n",
      "DB1/DB1_102_002.png\n",
      "DB1/DB1_103_018.png\n",
      "DB1/DB1_104_002.png\n"
     ]
    }
   ],
   "source": [
    "print('\\n'.join(all_image_paths[:5]))"
   ]
  },
  {
   "cell_type": "code",
   "execution_count": 53,
   "id": "d3251c77",
   "metadata": {},
   "outputs": [
    {
     "name": "stdout",
     "output_type": "stream",
     "text": [
      "DB1_100_018\n",
      "DB1_101_027\n",
      "DB1_102_002\n",
      "DB1_103_018\n",
      "DB1_104_002\n"
     ]
    }
   ],
   "source": [
    "print('\\n'.join(all_image_ids[:5]))"
   ]
  },
  {
   "cell_type": "code",
   "execution_count": 63,
   "id": "7aca9d6c",
   "metadata": {},
   "outputs": [],
   "source": [
    "def show_image(i):\n",
    "    plt.imshow(Image.open(all_image_paths[i]))"
   ]
  },
  {
   "cell_type": "code",
   "execution_count": 68,
   "id": "fd1eda09",
   "metadata": {},
   "outputs": [
    {
     "data": {
      "image/png": "[encoded data removed]",
      "text/plain": [
       "<Figure size 640x480 with 1 Axes>"
      ]
     },
     "metadata": {},
     "output_type": "display_data"
    }
   ],
   "source": [
    "show_image(0)"
   ]
  },
  {
   "cell_type": "code",
   "execution_count": null,
   "id": "3d2150ea",
   "metadata": {},
   "outputs": [],
   "source": []
  }
 ],
 "metadata": {
  "kernelspec": {
   "display_name": "Python 3 (ipykernel)",
   "language": "python",
   "name": "python3"
  },
  "language_info": {
   "codemirror_mode": {
    "name": "ipython",
    "version": 3
   },
   "file_extension": ".py",
   "mimetype": "text/x-python",
   "name": "python",
   "nbconvert_exporter": "python",
   "pygments_lexer": "ipython3",
   "version": "3.9.13"
  }
 },
 "nbformat": 4,
 "nbformat_minor": 5
}
